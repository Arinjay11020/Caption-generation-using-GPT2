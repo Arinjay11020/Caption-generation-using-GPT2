{
  "nbformat": 4,
  "nbformat_minor": 0,
  "metadata": {
    "colab": {
      "provenance": [],
      "machine_shape": "hm",
      "gpuClass": "premium",
      "include_colab_link": true
    },
    "kernelspec": {
      "name": "python3",
      "display_name": "Python 3"
    },
    "language_info": {
      "name": "python"
    },
    "accelerator": "GPU",
    "gpuClass": "premium"
  },
  "cells": [
    {
      "cell_type": "markdown",
      "metadata": {
        "id": "view-in-github",
        "colab_type": "text"
      },
      "source": [
        "<a href=\"https://colab.research.google.com/github/Arinjay11020/Caption-generation-using-GPT2/blob/main/GPT2_fine_tuned.ipynb\" target=\"_parent\"><img src=\"https://colab.research.google.com/assets/colab-badge.svg\" alt=\"Open In Colab\"/></a>"
      ]
    },
    {
      "cell_type": "code",
      "execution_count": null,
      "metadata": {
        "id": "mnrRnrG0maAb"
      },
      "outputs": [],
      "source": [
        "import warnings\n",
        "warnings.filterwarnings(\"ignore\")"
      ]
    },
    {
      "cell_type": "code",
      "source": [
        "!pip install gpt-2-simple\n",
        "import gpt_2_simple as gpt2"
      ],
      "metadata": {
        "colab": {
          "base_uri": "https://localhost:8080/"
        },
        "id": "o6iuP9n-sn4k",
        "outputId": "01f7c289-1650-4aca-8994-20fe237cbe96"
      },
      "execution_count": null,
      "outputs": [
        {
          "output_type": "stream",
          "name": "stdout",
          "text": [
            "Looking in indexes: https://pypi.org/simple, https://us-python.pkg.dev/colab-wheels/public/simple/\n",
            "Collecting gpt-2-simple\n",
            "  Downloading gpt_2_simple-0.8.1.tar.gz (26 kB)\n",
            "  Preparing metadata (setup.py) ... \u001b[?25l\u001b[?25hdone\n",
            "Requirement already satisfied: tensorflow>=2.5.1 in /usr/local/lib/python3.9/dist-packages (from gpt-2-simple) (2.11.0)\n",
            "Requirement already satisfied: regex in /usr/local/lib/python3.9/dist-packages (from gpt-2-simple) (2022.6.2)\n",
            "Requirement already satisfied: requests in /usr/local/lib/python3.9/dist-packages (from gpt-2-simple) (2.25.1)\n",
            "Requirement already satisfied: tqdm in /usr/local/lib/python3.9/dist-packages (from gpt-2-simple) (4.65.0)\n",
            "Requirement already satisfied: numpy in /usr/local/lib/python3.9/dist-packages (from gpt-2-simple) (1.22.4)\n",
            "Collecting toposort\n",
            "  Downloading toposort-1.10-py3-none-any.whl (8.5 kB)\n",
            "Requirement already satisfied: absl-py>=1.0.0 in /usr/local/lib/python3.9/dist-packages (from tensorflow>=2.5.1->gpt-2-simple) (1.4.0)\n",
            "Requirement already satisfied: h5py>=2.9.0 in /usr/local/lib/python3.9/dist-packages (from tensorflow>=2.5.1->gpt-2-simple) (3.1.0)\n",
            "Requirement already satisfied: packaging in /usr/local/lib/python3.9/dist-packages (from tensorflow>=2.5.1->gpt-2-simple) (23.0)\n",
            "Requirement already satisfied: gast<=0.4.0,>=0.2.1 in /usr/local/lib/python3.9/dist-packages (from tensorflow>=2.5.1->gpt-2-simple) (0.4.0)\n",
            "Requirement already satisfied: grpcio<2.0,>=1.24.3 in /usr/local/lib/python3.9/dist-packages (from tensorflow>=2.5.1->gpt-2-simple) (1.51.3)\n",
            "Requirement already satisfied: setuptools in /usr/local/lib/python3.9/dist-packages (from tensorflow>=2.5.1->gpt-2-simple) (57.4.0)\n",
            "Requirement already satisfied: six>=1.12.0 in /usr/local/lib/python3.9/dist-packages (from tensorflow>=2.5.1->gpt-2-simple) (1.15.0)\n",
            "Requirement already satisfied: protobuf<3.20,>=3.9.2 in /usr/local/lib/python3.9/dist-packages (from tensorflow>=2.5.1->gpt-2-simple) (3.19.6)\n",
            "Requirement already satisfied: tensorflow-io-gcs-filesystem>=0.23.1 in /usr/local/lib/python3.9/dist-packages (from tensorflow>=2.5.1->gpt-2-simple) (0.31.0)\n",
            "Requirement already satisfied: tensorboard<2.12,>=2.11 in /usr/local/lib/python3.9/dist-packages (from tensorflow>=2.5.1->gpt-2-simple) (2.11.2)\n",
            "Requirement already satisfied: termcolor>=1.1.0 in /usr/local/lib/python3.9/dist-packages (from tensorflow>=2.5.1->gpt-2-simple) (2.2.0)\n",
            "Requirement already satisfied: keras<2.12,>=2.11.0 in /usr/local/lib/python3.9/dist-packages (from tensorflow>=2.5.1->gpt-2-simple) (2.11.0)\n",
            "Requirement already satisfied: opt-einsum>=2.3.2 in /usr/local/lib/python3.9/dist-packages (from tensorflow>=2.5.1->gpt-2-simple) (3.3.0)\n",
            "Requirement already satisfied: tensorflow-estimator<2.12,>=2.11.0 in /usr/local/lib/python3.9/dist-packages (from tensorflow>=2.5.1->gpt-2-simple) (2.11.0)\n",
            "Requirement already satisfied: wrapt>=1.11.0 in /usr/local/lib/python3.9/dist-packages (from tensorflow>=2.5.1->gpt-2-simple) (1.15.0)\n",
            "Requirement already satisfied: flatbuffers>=2.0 in /usr/local/lib/python3.9/dist-packages (from tensorflow>=2.5.1->gpt-2-simple) (23.3.3)\n",
            "Requirement already satisfied: astunparse>=1.6.0 in /usr/local/lib/python3.9/dist-packages (from tensorflow>=2.5.1->gpt-2-simple) (1.6.3)\n",
            "Requirement already satisfied: typing-extensions>=3.6.6 in /usr/local/lib/python3.9/dist-packages (from tensorflow>=2.5.1->gpt-2-simple) (4.5.0)\n",
            "Requirement already satisfied: libclang>=13.0.0 in /usr/local/lib/python3.9/dist-packages (from tensorflow>=2.5.1->gpt-2-simple) (15.0.6.1)\n",
            "Requirement already satisfied: google-pasta>=0.1.1 in /usr/local/lib/python3.9/dist-packages (from tensorflow>=2.5.1->gpt-2-simple) (0.2.0)\n",
            "Requirement already satisfied: chardet<5,>=3.0.2 in /usr/local/lib/python3.9/dist-packages (from requests->gpt-2-simple) (4.0.0)\n",
            "Requirement already satisfied: idna<3,>=2.5 in /usr/local/lib/python3.9/dist-packages (from requests->gpt-2-simple) (2.10)\n",
            "Requirement already satisfied: urllib3<1.27,>=1.21.1 in /usr/local/lib/python3.9/dist-packages (from requests->gpt-2-simple) (1.26.14)\n",
            "Requirement already satisfied: certifi>=2017.4.17 in /usr/local/lib/python3.9/dist-packages (from requests->gpt-2-simple) (2022.12.7)\n",
            "Requirement already satisfied: wheel<1.0,>=0.23.0 in /usr/local/lib/python3.9/dist-packages (from astunparse>=1.6.0->tensorflow>=2.5.1->gpt-2-simple) (0.38.4)\n",
            "Requirement already satisfied: werkzeug>=1.0.1 in /usr/local/lib/python3.9/dist-packages (from tensorboard<2.12,>=2.11->tensorflow>=2.5.1->gpt-2-simple) (2.2.3)\n",
            "Requirement already satisfied: google-auth-oauthlib<0.5,>=0.4.1 in /usr/local/lib/python3.9/dist-packages (from tensorboard<2.12,>=2.11->tensorflow>=2.5.1->gpt-2-simple) (0.4.6)\n",
            "Requirement already satisfied: markdown>=2.6.8 in /usr/local/lib/python3.9/dist-packages (from tensorboard<2.12,>=2.11->tensorflow>=2.5.1->gpt-2-simple) (3.4.1)\n",
            "Requirement already satisfied: tensorboard-data-server<0.7.0,>=0.6.0 in /usr/local/lib/python3.9/dist-packages (from tensorboard<2.12,>=2.11->tensorflow>=2.5.1->gpt-2-simple) (0.6.1)\n",
            "Requirement already satisfied: google-auth<3,>=1.6.3 in /usr/local/lib/python3.9/dist-packages (from tensorboard<2.12,>=2.11->tensorflow>=2.5.1->gpt-2-simple) (2.16.2)\n",
            "Requirement already satisfied: tensorboard-plugin-wit>=1.6.0 in /usr/local/lib/python3.9/dist-packages (from tensorboard<2.12,>=2.11->tensorflow>=2.5.1->gpt-2-simple) (1.8.1)\n",
            "Requirement already satisfied: rsa<5,>=3.1.4 in /usr/local/lib/python3.9/dist-packages (from google-auth<3,>=1.6.3->tensorboard<2.12,>=2.11->tensorflow>=2.5.1->gpt-2-simple) (4.9)\n",
            "Requirement already satisfied: pyasn1-modules>=0.2.1 in /usr/local/lib/python3.9/dist-packages (from google-auth<3,>=1.6.3->tensorboard<2.12,>=2.11->tensorflow>=2.5.1->gpt-2-simple) (0.2.8)\n",
            "Requirement already satisfied: cachetools<6.0,>=2.0.0 in /usr/local/lib/python3.9/dist-packages (from google-auth<3,>=1.6.3->tensorboard<2.12,>=2.11->tensorflow>=2.5.1->gpt-2-simple) (5.3.0)\n",
            "Requirement already satisfied: requests-oauthlib>=0.7.0 in /usr/local/lib/python3.9/dist-packages (from google-auth-oauthlib<0.5,>=0.4.1->tensorboard<2.12,>=2.11->tensorflow>=2.5.1->gpt-2-simple) (1.3.1)\n",
            "Requirement already satisfied: importlib-metadata>=4.4 in /usr/local/lib/python3.9/dist-packages (from markdown>=2.6.8->tensorboard<2.12,>=2.11->tensorflow>=2.5.1->gpt-2-simple) (6.0.0)\n",
            "Requirement already satisfied: MarkupSafe>=2.1.1 in /usr/local/lib/python3.9/dist-packages (from werkzeug>=1.0.1->tensorboard<2.12,>=2.11->tensorflow>=2.5.1->gpt-2-simple) (2.1.2)\n",
            "Requirement already satisfied: zipp>=0.5 in /usr/local/lib/python3.9/dist-packages (from importlib-metadata>=4.4->markdown>=2.6.8->tensorboard<2.12,>=2.11->tensorflow>=2.5.1->gpt-2-simple) (3.15.0)\n",
            "Requirement already satisfied: pyasn1<0.5.0,>=0.4.6 in /usr/local/lib/python3.9/dist-packages (from pyasn1-modules>=0.2.1->google-auth<3,>=1.6.3->tensorboard<2.12,>=2.11->tensorflow>=2.5.1->gpt-2-simple) (0.4.8)\n",
            "Requirement already satisfied: oauthlib>=3.0.0 in /usr/local/lib/python3.9/dist-packages (from requests-oauthlib>=0.7.0->google-auth-oauthlib<0.5,>=0.4.1->tensorboard<2.12,>=2.11->tensorflow>=2.5.1->gpt-2-simple) (3.2.2)\n",
            "Building wheels for collected packages: gpt-2-simple\n",
            "  Building wheel for gpt-2-simple (setup.py) ... \u001b[?25l\u001b[?25hdone\n",
            "  Created wheel for gpt-2-simple: filename=gpt_2_simple-0.8.1-py3-none-any.whl size=24576 sha256=ef1bf8b89c1ac68737e32984f73e2061b52c3df1f1250ea38f1b3b3de17fac61\n",
            "  Stored in directory: /root/.cache/pip/wheels/4e/28/f0/2f12e470be10d6804b193e4193d274c88995010fae512a67cf\n",
            "Successfully built gpt-2-simple\n",
            "Installing collected packages: toposort, gpt-2-simple\n",
            "Successfully installed gpt-2-simple-0.8.1 toposort-1.10\n"
          ]
        }
      ]
    },
    {
      "cell_type": "code",
      "source": [
        "gpt2.download_gpt2(model_name=\"124M\")"
      ],
      "metadata": {
        "colab": {
          "base_uri": "https://localhost:8080/"
        },
        "id": "0K5aGfIItemj",
        "outputId": "191a8429-37a8-4347-b4fb-78e11577cd66"
      },
      "execution_count": null,
      "outputs": [
        {
          "output_type": "stream",
          "name": "stderr",
          "text": [
            "Fetching checkpoint: 1.05Mit [00:00, 510Mit/s]                                                      \n",
            "Fetching encoder.json: 1.05Mit [00:00, 5.05Mit/s]\n",
            "Fetching hparams.json: 1.05Mit [00:00, 711Mit/s]                                                    \n",
            "Fetching model.ckpt.data-00000-of-00001: 498Mit [00:09, 52.7Mit/s]\n",
            "Fetching model.ckpt.index: 1.05Mit [00:00, 827Mit/s]                                                \n",
            "Fetching model.ckpt.meta: 1.05Mit [00:00, 5.68Mit/s]\n",
            "Fetching vocab.bpe: 1.05Mit [00:00, 7.50Mit/s]\n"
          ]
        }
      ]
    },
    {
      "cell_type": "code",
      "source": [
        "import pandas as pd\n",
        "df=pd.read_csv(\"/content/Advance Cool Air.csv\",encoding='cp1252')\n",
        "df.head()"
      ],
      "metadata": {
        "colab": {
          "base_uri": "https://localhost:8080/",
          "height": 206
        },
        "id": "OZ4btq_5tr0T",
        "outputId": "b5863dc6-be78-4cba-ced4-4c33a4703373"
      },
      "execution_count": null,
      "outputs": [
        {
          "output_type": "execute_result",
          "data": {
            "text/plain": [
              "   Year  Month  Day  Hour  Minute AmPm  \\\n",
              "0  2023     11    1    12      15   pm   \n",
              "1  2023     11    2     1      35   pm   \n",
              "2  2023     11    3    12       9   pm   \n",
              "3  2023     11    4     1      35   pm   \n",
              "4  2023     11    5    12      15   pm   \n",
              "\n",
              "                                All networks message  Is Draft?  \\\n",
              "0  When you're in need of reliable assistance, lo...      False   \n",
              "1  Rather than waiting for an A/C unit to be dama...      False   \n",
              "2  If your thermostat is not providing accurate r...      False   \n",
              "3  Often, a simple repair job is all that’s neede...      False   \n",
              "4  Don't worry. We guarantee excellent air condit...      False   \n",
              "\n",
              "                                         Old message  \n",
              "0  Our service is a breath of fresh air! When you...  \n",
              "1  Most people only call an A/C repair company as...  \n",
              "2  Your thermostat provides accurate information ...  \n",
              "3  Often, a simple repair job is all that’s neede...  \n",
              "4  Don't sweat it. We're providing top-notch air ...  "
            ],
            "text/html": [
              "\n",
              "  <div id=\"df-7e9606c6-d393-44ec-b33c-f657c0844ef4\">\n",
              "    <div class=\"colab-df-container\">\n",
              "      <div>\n",
              "<style scoped>\n",
              "    .dataframe tbody tr th:only-of-type {\n",
              "        vertical-align: middle;\n",
              "    }\n",
              "\n",
              "    .dataframe tbody tr th {\n",
              "        vertical-align: top;\n",
              "    }\n",
              "\n",
              "    .dataframe thead th {\n",
              "        text-align: right;\n",
              "    }\n",
              "</style>\n",
              "<table border=\"1\" class=\"dataframe\">\n",
              "  <thead>\n",
              "    <tr style=\"text-align: right;\">\n",
              "      <th></th>\n",
              "      <th>Year</th>\n",
              "      <th>Month</th>\n",
              "      <th>Day</th>\n",
              "      <th>Hour</th>\n",
              "      <th>Minute</th>\n",
              "      <th>AmPm</th>\n",
              "      <th>All networks message</th>\n",
              "      <th>Is Draft?</th>\n",
              "      <th>Old message</th>\n",
              "    </tr>\n",
              "  </thead>\n",
              "  <tbody>\n",
              "    <tr>\n",
              "      <th>0</th>\n",
              "      <td>2023</td>\n",
              "      <td>11</td>\n",
              "      <td>1</td>\n",
              "      <td>12</td>\n",
              "      <td>15</td>\n",
              "      <td>pm</td>\n",
              "      <td>When you're in need of reliable assistance, lo...</td>\n",
              "      <td>False</td>\n",
              "      <td>Our service is a breath of fresh air! When you...</td>\n",
              "    </tr>\n",
              "    <tr>\n",
              "      <th>1</th>\n",
              "      <td>2023</td>\n",
              "      <td>11</td>\n",
              "      <td>2</td>\n",
              "      <td>1</td>\n",
              "      <td>35</td>\n",
              "      <td>pm</td>\n",
              "      <td>Rather than waiting for an A/C unit to be dama...</td>\n",
              "      <td>False</td>\n",
              "      <td>Most people only call an A/C repair company as...</td>\n",
              "    </tr>\n",
              "    <tr>\n",
              "      <th>2</th>\n",
              "      <td>2023</td>\n",
              "      <td>11</td>\n",
              "      <td>3</td>\n",
              "      <td>12</td>\n",
              "      <td>9</td>\n",
              "      <td>pm</td>\n",
              "      <td>If your thermostat is not providing accurate r...</td>\n",
              "      <td>False</td>\n",
              "      <td>Your thermostat provides accurate information ...</td>\n",
              "    </tr>\n",
              "    <tr>\n",
              "      <th>3</th>\n",
              "      <td>2023</td>\n",
              "      <td>11</td>\n",
              "      <td>4</td>\n",
              "      <td>1</td>\n",
              "      <td>35</td>\n",
              "      <td>pm</td>\n",
              "      <td>Often, a simple repair job is all that’s neede...</td>\n",
              "      <td>False</td>\n",
              "      <td>Often, a simple repair job is all that’s neede...</td>\n",
              "    </tr>\n",
              "    <tr>\n",
              "      <th>4</th>\n",
              "      <td>2023</td>\n",
              "      <td>11</td>\n",
              "      <td>5</td>\n",
              "      <td>12</td>\n",
              "      <td>15</td>\n",
              "      <td>pm</td>\n",
              "      <td>Don't worry. We guarantee excellent air condit...</td>\n",
              "      <td>False</td>\n",
              "      <td>Don't sweat it. We're providing top-notch air ...</td>\n",
              "    </tr>\n",
              "  </tbody>\n",
              "</table>\n",
              "</div>\n",
              "      <button class=\"colab-df-convert\" onclick=\"convertToInteractive('df-7e9606c6-d393-44ec-b33c-f657c0844ef4')\"\n",
              "              title=\"Convert this dataframe to an interactive table.\"\n",
              "              style=\"display:none;\">\n",
              "        \n",
              "  <svg xmlns=\"http://www.w3.org/2000/svg\" height=\"24px\"viewBox=\"0 0 24 24\"\n",
              "       width=\"24px\">\n",
              "    <path d=\"M0 0h24v24H0V0z\" fill=\"none\"/>\n",
              "    <path d=\"M18.56 5.44l.94 2.06.94-2.06 2.06-.94-2.06-.94-.94-2.06-.94 2.06-2.06.94zm-11 1L8.5 8.5l.94-2.06 2.06-.94-2.06-.94L8.5 2.5l-.94 2.06-2.06.94zm10 10l.94 2.06.94-2.06 2.06-.94-2.06-.94-.94-2.06-.94 2.06-2.06.94z\"/><path d=\"M17.41 7.96l-1.37-1.37c-.4-.4-.92-.59-1.43-.59-.52 0-1.04.2-1.43.59L10.3 9.45l-7.72 7.72c-.78.78-.78 2.05 0 2.83L4 21.41c.39.39.9.59 1.41.59.51 0 1.02-.2 1.41-.59l7.78-7.78 2.81-2.81c.8-.78.8-2.07 0-2.86zM5.41 20L4 18.59l7.72-7.72 1.47 1.35L5.41 20z\"/>\n",
              "  </svg>\n",
              "      </button>\n",
              "      \n",
              "  <style>\n",
              "    .colab-df-container {\n",
              "      display:flex;\n",
              "      flex-wrap:wrap;\n",
              "      gap: 12px;\n",
              "    }\n",
              "\n",
              "    .colab-df-convert {\n",
              "      background-color: #E8F0FE;\n",
              "      border: none;\n",
              "      border-radius: 50%;\n",
              "      cursor: pointer;\n",
              "      display: none;\n",
              "      fill: #1967D2;\n",
              "      height: 32px;\n",
              "      padding: 0 0 0 0;\n",
              "      width: 32px;\n",
              "    }\n",
              "\n",
              "    .colab-df-convert:hover {\n",
              "      background-color: #E2EBFA;\n",
              "      box-shadow: 0px 1px 2px rgba(60, 64, 67, 0.3), 0px 1px 3px 1px rgba(60, 64, 67, 0.15);\n",
              "      fill: #174EA6;\n",
              "    }\n",
              "\n",
              "    [theme=dark] .colab-df-convert {\n",
              "      background-color: #3B4455;\n",
              "      fill: #D2E3FC;\n",
              "    }\n",
              "\n",
              "    [theme=dark] .colab-df-convert:hover {\n",
              "      background-color: #434B5C;\n",
              "      box-shadow: 0px 1px 3px 1px rgba(0, 0, 0, 0.15);\n",
              "      filter: drop-shadow(0px 1px 2px rgba(0, 0, 0, 0.3));\n",
              "      fill: #FFFFFF;\n",
              "    }\n",
              "  </style>\n",
              "\n",
              "      <script>\n",
              "        const buttonEl =\n",
              "          document.querySelector('#df-7e9606c6-d393-44ec-b33c-f657c0844ef4 button.colab-df-convert');\n",
              "        buttonEl.style.display =\n",
              "          google.colab.kernel.accessAllowed ? 'block' : 'none';\n",
              "\n",
              "        async function convertToInteractive(key) {\n",
              "          const element = document.querySelector('#df-7e9606c6-d393-44ec-b33c-f657c0844ef4');\n",
              "          const dataTable =\n",
              "            await google.colab.kernel.invokeFunction('convertToInteractive',\n",
              "                                                     [key], {});\n",
              "          if (!dataTable) return;\n",
              "\n",
              "          const docLinkHtml = 'Like what you see? Visit the ' +\n",
              "            '<a target=\"_blank\" href=https://colab.research.google.com/notebooks/data_table.ipynb>data table notebook</a>'\n",
              "            + ' to learn more about interactive tables.';\n",
              "          element.innerHTML = '';\n",
              "          dataTable['output_type'] = 'display_data';\n",
              "          await google.colab.output.renderOutput(dataTable, element);\n",
              "          const docLink = document.createElement('div');\n",
              "          docLink.innerHTML = docLinkHtml;\n",
              "          element.appendChild(docLink);\n",
              "        }\n",
              "      </script>\n",
              "    </div>\n",
              "  </div>\n",
              "  "
            ]
          },
          "metadata": {},
          "execution_count": 4
        }
      ]
    },
    {
      "cell_type": "code",
      "source": [
        "text=\"\".join(df['Old message'].tolist())"
      ],
      "metadata": {
        "id": "dztjD3vouSA8"
      },
      "execution_count": null,
      "outputs": []
    },
    {
      "cell_type": "code",
      "source": [
        "text_file = open(\"data.txt\", \"w\")\n",
        "\n",
        "#write string to file\n",
        "text_file.write(text)\n",
        "\n",
        "#close file\n",
        "text_file.close()"
      ],
      "metadata": {
        "id": "zabql4HYua2r"
      },
      "execution_count": null,
      "outputs": []
    },
    {
      "cell_type": "code",
      "source": [
        "file_name=\"data.txt\""
      ],
      "metadata": {
        "id": "Fh5vrsswu59B"
      },
      "execution_count": null,
      "outputs": []
    },
    {
      "cell_type": "code",
      "source": [
        "sess=gpt2.start_tf_sess()\n",
        "\n",
        "gpt2.finetune(sess,\n",
        "              dataset=file_name,\n",
        "              model_name=\"124M\",\n",
        "              steps=200,\n",
        "              restore_from=\"fresh\",\n",
        "              run_name=\"run1\",\n",
        "              print_every=10,\n",
        "              sample_every=20,\n",
        "              save_every=20)"
      ],
      "metadata": {
        "colab": {
          "base_uri": "https://localhost:8080/"
        },
        "id": "BqLMc9gRuq5E",
        "outputId": "a70d36f3-854e-4bbf-f23a-fe3ee3e0829c"
      },
      "execution_count": null,
      "outputs": [
        {
          "output_type": "stream",
          "name": "stdout",
          "text": [
            "Loading checkpoint models/124M/model.ckpt\n",
            "Loading dataset...\n"
          ]
        },
        {
          "output_type": "stream",
          "name": "stderr",
          "text": [
            "100%|██████████| 1/1 [00:00<00:00, 1276.80it/s]"
          ]
        },
        {
          "output_type": "stream",
          "name": "stdout",
          "text": [
            "dataset has 1466 tokens\n",
            "Training...\n"
          ]
        },
        {
          "output_type": "stream",
          "name": "stderr",
          "text": [
            "\n"
          ]
        },
        {
          "output_type": "stream",
          "name": "stdout",
          "text": [
            "[10 | 12.36] loss=0.46 avg=0.46\n",
            "[20 | 15.55] loss=0.04 avg=0.25\n",
            "Saving checkpoint/run1/model-20\n",
            "======== SAMPLE 1 ========\n",
            " to to help? Let us help!\n",
            "(305) 331-7569We're here for you! Knowing that someone is available to help if your unit breaks down can be a huge relief. Give us a call today! (305) 331-7569Your air conditioner is an investment meant to last you for over a decade. You wouldn’t ever purposely hire a non-professional to work on an AC, right? Contact Advance Cool Air today!Monitor your indoor temperature when Advance Cool Air installs a new thermostat to give you efficient, real-time readings. Call us today!\n",
            "(305) 331-7569 Monitor your indoor temperature when Advance Cool Air installs a new thermostat to give you efficient, real-time readings. Call us today!\n",
            "(305) 331-7569 Our job is to make you happy. Your satisfaction is our guarantee! Let us make you happy with amazing service today.Saving money is always a tempting prospect for people to attempt DIY repairs, but safety should be your #1 priority. Partner with Advance Cool Air and protect your family from harmful chemicals while saving money. Allow our experts to handle your responsibilities.They're here for you! Knowing that someone is available to help if your unit breaks down can be a huge relief. Give us a call today! (305) 331-7569Your air conditioner is an investment meant to last you for over a decade. You wouldn’t ever hire a non-professional to work on an AC, right? Contact Advance Cool Air today!\n",
            "(305) 331-7569 The average joe spends over $75 on air conditioning equipment, and some people have even resorted to arson to complete the repairs. Don't sweat it; we were not here to sell you or cause any trouble. Let us make you happy with amazing service today.Saving money is always a tempting prospect for people to attempt DIY repairs, but safety should be your #1 priority. Partner with Advance Cool Air and protect your family from harmful chemicals while saving money. Allow our experts to handle your responsibilities.They're here for the people, not the equipment. While it is advised twice a year, never use someone else's product for your own personal gain, no matter the reason. Don't sweat it; we were not there to sell you or cause any trouble. Let us make you happy with amazing service today.Saving money is always a tempting prospect for people to attempt DIY repairs, but safety should be your #1 priority. Partner with Advance Cool Air and protect your family from harmful chemicals while saving money. Allow our experts to handle your responsibilities.They're here for the people, not the equipment. While it is advised twice a year, never use someone else's product for your own personal gain, no matter the reason. Don't sweat it; we were not there to sell you or cause any trouble. Let us make you happy with amazing service today.Saving money is always a tempting prospect for people to attempt DIY repairs, but safety should be your #1 priority. Partner with Advance Cool Air and protect your family from harmful chemicals while saving money. Allow our experts to handle your responsibilities.They're here for the people, not the equipment. While it is advised twice a year, never use someone else's product for your own personal gain, no matter the reason. Don't sweat it; we were not there to sell you or cause any trouble. Let us make you happy with amazing service today.Saving money is always a tempting prospect for people to attempt DIY repairs, but safety should be your #1 priority. Partner with Advance Cool Air and protect your family from harmful chemicals while saving money. Allow our experts to handle your responsibilities.They're here for the people, not the equipment. While it is advised twice a year, never use someone else's product for your own personal gain, no matter the reason. Don't sweat it; we were not there to sell you or cause any trouble. Let us make you happy with amazing service today.Saving money is always a tempting prospect for people to attempt DIY repairs, but safety should be your #1 priority. Partner with Advance Cool Air and protect your family from harmful chemicals while saving money. Allow us to make you happy with amazing service today.Saving money is always a tempting prospect for people to attempt DIY repairs, but safety should be your # 1 priority. Partner with Advance Cool Air and protect your family from harmful chemicals while you can sell us a used car unit. Nothing’s more miserable than dealing with a broken air conditioner. Whether you’ve already tried to repair your AC or just realized your unit is past its prime, Advance Cool Air can make the repair or replacement process easy.About the Author Michael and Ethan Walsh are professionals who identify and guide people through the process of re-buying and restoring their A/C systems. They love spending time with their loved ones and make great friends who can guide them through the process. They are available to help you get\n",
            "\n",
            "[30 | 31.34] loss=0.02 avg=0.17\n",
            "[40 | 34.53] loss=0.02 avg=0.13\n",
            "Saving checkpoint/run1/model-40\n"
          ]
        },
        {
          "output_type": "stream",
          "name": "stderr",
          "text": [
            "WARNING:tensorflow:From /usr/local/lib/python3.9/dist-packages/tensorflow/python/training/saver.py:1064: remove_checkpoint (from tensorflow.python.checkpoint.checkpoint_management) is deprecated and will be removed in a future version.\n",
            "Instructions for updating:\n",
            "Use standard file APIs to delete files with this prefix.\n"
          ]
        },
        {
          "output_type": "stream",
          "name": "stdout",
          "text": [
            "======== SAMPLE 1 ========\n",
            "aca. Get help today!Your air conditioner is an investment meant to last you for over a decade. You wouldn’t ever purposely hire a non-professional to work on an AC, right? Contact Advance Cool Air today!Monitor your indoor temperature when Advance Cool Air installs a new thermostat to give you efficient, real-time readings. Call us today!\n",
            "(305) 331-7569 Monitor your indoor temperature when Advance Cool Air installs a new thermostat to give you efficient, real-time readings. Call us today!\n",
            "(305) 331-7569 Our job is to make you happy. Your satisfaction is our guarantee! Let us make you happy with amazing service today.Saving money is always a tempting prospect for people to attempt DIY repairs, but safety should be your #1 priority. Partner with Advance Cool Air and keep your family safe; you’ll be glad you did. If you need help remembering the last time your air filters were cleaned, then you need to contact Advance Cool Air and schedule a cleaning so you can start breathing better air in your home.\n",
            "https://www.advancecoolair.com/ (305) 331-7569 If you need help remembering the last time your air filters were cleaned, then you need to contact Advance Cool Air and schedule a cleaning so you can start breathing better air in your home.\n",
            "https://www.advancecoolair.com/ (305) 331-7569 Machines never break down when convenient. If you need repairs done quickly, no matter the reason, our team will not let you down. Once a job is finished, the expression on our clients' faces determines how well our work is performed. At Advance Cool Air, we place a high priority on your happiness.Routine maintenance is the key to keeping your A/C working, but if the inevitable occurs and you need immediate A/C repair, it is for your best benefit to contact Advance Cool Air. It's time for your regular servicing! When was the last time you got your unit serviced? While it is advised twice a year, it is better to be cautious than sorry! Don't wait for a disaster. Call Advance Cool Air now to arrange service!\n",
            "#aca #advancecoolair\n",
            "(305) 331-7569 Top-quality service at affordable rates is what we stand by. Let us assist with your air conditioning needs today.We have the right equipment to complete your system's work fast and safely. Our professional team will be glad to assist you with all your A/C needs. Get a quote today!Happy Thanksgiving from all of us here at Advance Cool Air! We want to take this opportunity to thank you for your continued support and wish you and your loved ones a great day.Nothing’s more miserable than dealing with a broken air conditioner. Whether you’ve already tried to repair your AC or just realized your unit is past its prime, Advance Cool Air can make the repair or replacement process easy.(305) 331-7569 \n",
            "#aca #advancecoolair Nothing’s more miserable than dealing with a broken air conditioner. Whether you’ve already tried to repair your AC or just realized your unit is past its prime, Advance Cool Air can make the repair or replacement process easy.(305) 331-7569 \n",
            "#aca #advancecoolair Your air conditioning system represents a significant investment, and when it isn’t working right, we understand it's important to find a trusted technician to repair it. Rely on Advance Cool Air for long-lasting results and clear communication!We provide professional, quality air conditioning repair services to the Miami area. When you need us, we'll be there. Contact us for amazing service today. (305) 331-7569We’re here for all your home’s AC repair needs. No matter what system you have, have our certified techs take a look and get it working again! ??Customer service means making it easy and fast for your customers to get the help they need- when and how they need it. At Advance Cool Air, we aim to supply your needs in the best way possible.You have a problem. We have a solution. Let the Advance Cool Air team simplify your life with quality work and affordable rates. Contact us for more information on what we can do for you today. (305) 331-7569While it may be tempting, you should never do a repair on your own. You are not experienced, nor do you have the tools available to make the repair. Save your time and money. Call the experts at Advance Cool Air for all of your AC service and repair needs! (305) 331-7569When it's time to replace your air conditioner, Advance Cool Air is here to assist. We'll help you shop around for a new air conditioner that fits your requirements When it's time to replace your air conditioner, Advance Cool Air is here to assist. We\n",
            "\n",
            "[50 | 48.06] loss=0.01 avg=0.11\n",
            "[60 | 51.25] loss=0.01 avg=0.09\n",
            "Saving checkpoint/run1/model-60\n",
            "======== SAMPLE 1 ========\n",
            " safety of your air conditioner. Knowing that someone is available to help if your unit breaks down can be a huge relief. Give us a call today! (305) 331-7569Your air conditioner is an investment meant to last you for over a decade. You wouldn’t ever purposely hire a non-professional to work on an AC, right? Contact Advance Cool Air today!Monitor your indoor temperature when Advance Cool Air installs a new thermostat to give you efficient, real-time readings. Call us today!\n",
            "(305) 331-7569 Monitor your indoor temperature when Advance Cool Air installs a new thermostat to give you efficient, real-time readings. Call us today!\n",
            "(305) 331-7569 Our job is to make you happy. Your satisfaction is our guarantee! Let us make you happy with amazing service today.Saving money is always a tempting prospect for people to attempt DIY repairs, but safety should be your #1 priority. Partner with Advance Cool Air and keep your family safe; you’ll be glad you did. If you need help remembering the last time your air filters were cleaned, then you need to contact Advance Cool Air and schedule a cleaning so you can start breathing better air in your home.\n",
            "https://www.advancecoolair.com/ (305) 331-7569 If you need help remembering the last time your air filters were cleaned, then you need to contact Advance Cool Air and schedule a cleaning so you can start breathing better air in your home.\n",
            "https://www.advancecoolair.com/ (305) 331-7569 Machines never break down when convenient. If you need repairs done quickly, no matter the reason, our team will not let you down. Once a job is finished, the expression on our clients' faces determines how well our work is performed. At Advance Cool Air, we place a high priority on your happiness.Routine maintenance is the key to keeping your A/C working, but if the inevitable occurs and you need immediate A/C repair, it is for your best benefit to contact Advance Cool Air. It's time for your regular servicing! When was the last time you got your unit serviced? While it is advised twice a year, it is better to be cautious than sorry! Don't wait for a disaster. Call Advance Cool Air now to arrange service!\n",
            "#aca #advancecoolair\n",
            "(305) 331-7569 Top-quality service at affordable rates is what we stand by. Let us assist with your air conditioning needs today.We have the right equipment to complete your system's work fast and safely. Our professional team will be glad to assist you with all your A/C needs. Get a quote today!Happy Thanksgiving from all of us here at Advance Cool Air! We want to take this opportunity to thank you for your continued support and wish you and your loved ones a great day.Nothing’s more miserable than dealing with a broken air conditioner. Whether you’ve already tried to repair your AC or just realized your unit is past its prime, Advance Cool Air can make the repair or replacement process easy.(305) 331-7569 \n",
            "#aca #advancecoolair Nothing’s more miserable than dealing with a broken air conditioner. Whether you’ve already tried to repair your AC or just realized your unit is past its prime, Advance Cool Air can make the repair or replacement process easy.(305) 331-7569 \n",
            "#aca #advancecoolair Your air conditioning system represents a significant investment, and when it isn’t working right, we understand it's important to find a trusted technician to repair it. Rely on Advance Cool Air for long-lasting results and clear communication!We provide professional, quality air conditioning repair services to the Miami area. When you need us, we'll be there. Contact us for amazing service today. (305) 331-7569We’re here for all your home’s AC repair needs. No matter what system you have, have our certified techs take a look and get it working again! ??Customer service means making it easy and fast for your customers to get the help they need- when and how they need it. At Advance Cool Air, we aim to supply your needs in the best way possible.You have a problem. We have a solution. Let the Advance Cool Air team simplify your life with quality work and affordable rates. Contact us for more information on what we can do for you today. (305) 331-7569While it may be tempting, you should never do a repair on your own. You are not experienced, nor do you have the tools available to make the repair. Save your time and money. Call the experts at Advance Cool Air for all of your AC service and repair needs! (305) 331-7569When it's time to replace your air conditioner, Advance Cool Air is here to assist. We'll help you\n",
            "\n",
            "[70 | 64.83] loss=0.01 avg=0.08\n",
            "[80 | 68.02] loss=0.01 avg=0.07\n",
            "Saving checkpoint/run1/model-80\n",
            "======== SAMPLE 1 ========\n",
            "cool service from Advance Cool Air.We provide top-notch air conditioning services all year round. Give us a call to repair your HVAC system today.When you try to do the repairs yourself, there’s always a risk that something could go wrong and cause further damage to the unit. Allow our experts to handle everything for you! Nothing’s more miserable than dealing with a broken air conditioner. Whether you’ve already tried to repair your AC or just realized your unit is past its prime, Advance Cool Air can make the repair or replacement process easy.Hot or cold, our service is gold. For a company that cares, allow Advance Cool Air to supply all your HVAC needs. (305) 331-7569if the worst happens and you need to replace your unit, you’ll have the support of our professional team who can guide you through the process and ensure everything goes smoothly!At Advance Cool Air, you'll find all A/C solutions, from residential to corporate. Give us a call. (305) 331-7569We're here for you! Knowing that someone is available to help if your unit breaks down can be a huge relief. Give us a call today! (305) 331-7569Your air conditioner is an investment meant to last you for over a decade. You wouldn’t ever purposely hire a non-professional to work on an AC, right? Contact Advance Cool Air today!Monitor your indoor temperature when Advance Cool Air installs a new thermostat to give you efficient, real-time readings. Call us today!\n",
            "(305) 331-7569 Monitor your indoor temperature when Advance Cool Air installs a new thermostat to give you efficient, real-time readings. Call us today!\n",
            "(305) 331-7569 Our job is to make you happy. Your satisfaction is our guarantee! Let us make you happy with amazing service today.Saving money is always a tempting prospect for people to attempt DIY repairs, but safety should be your #1 priority. Partner with Advance Cool Air and keep your family safe; you’ll be glad you did. If you need help remembering the last time your air filters were cleaned, then you need to contact Advance Cool Air and schedule a cleaning so you can start breathing better air in your home.\n",
            "https://www.advancecoolair.com/ (305) 331-7569 If you need help remembering the last time your air filters were cleaned, then you need to contact Advance Cool Air and schedule a cleaning so you can start breathing better air in your home.\n",
            "https://www.advancecoolair.com/ (305) 331-7569 Machines never break down when convenient. If you need repairs done quickly, no matter the reason, our team will not let you down. Once a job is finished, the expression on our clients' faces determines how well our work is performed. At Advance Cool Air, we place a high priority on your happiness.Routine maintenance is the key to keeping your A/C working, but if the inevitable occurs and you need immediate A/C repair, it is for your best benefit to contact Advance Cool Air. It's time for your regular servicing! When was the last time you got your unit serviced? While it is advised twice a year, it is better to be cautious than sorry! Don't wait for a disaster. Call Advance Cool Air now to arrange service!\n",
            "#aca #advancecoolair\n",
            "(305) 331-7569 Top-quality service at affordable rates is what we stand by. Let us assist with your air conditioning needs today.We have the right equipment to complete your system's work fast and safely. Our professional team will be glad to assist you with all your A/C needs. Get a quote today!Happy Thanksgiving from all of us here at Advance Cool Air! We want to take this opportunity to thank you for your continued support and wish you and your loved ones a great day.Nothing’s more miserable than dealing with a broken air conditioner. Whether you’ve already tried to repair your AC or just realized your unit is past its prime, Advance Cool Air can make the repair or replacement process easy.(305) 331-7569 \n",
            "#aca #advancecoolair Nothing’s more miserable than dealing with a broken air conditioner. Whether you’ve already tried to repair your AC or just realized your unit is past its prime, Advance Cool Air can make the repair or replacement process easy.(305) 331-7569 \n",
            "#aca #advancecoolair Your air conditioning system represents a significant investment, and when it isn’t working right, we understand it's important to find a trusted technician to repair it. Rely on Advance Cool Air for long-lasting results and clear communication!We provide professional, quality air conditioning repair services to the Miami area. When you need us, we'll be there. Contact us for amazing service today.\n",
            "\n",
            "[90 | 81.61] loss=0.01 avg=0.06\n",
            "[100 | 84.80] loss=0.01 avg=0.06\n",
            "Saving checkpoint/run1/model-100\n",
            "======== SAMPLE 1 ========\n",
            ". Air conditioning is an investment meant to last you for over a decade. You wouldn’t ever purposely hire a non-professional to work on an AC, right? Contact Advance Cool Air today!Monitor your indoor temperature when Advance Cool Air installs a new thermostat to give you efficient, real-time readings. Call us today!\n",
            "(305) 331-7569 Monitor your indoor temperature when Advance Cool Air installs a new thermostat to give you efficient, real-time readings. Call us today!\n",
            "(305) 331-7569 Our job is to make you happy. Your satisfaction is our guarantee! Let us make you happy with amazing service today.Saving money is always a tempting prospect for people to attempt DIY repairs, but safety should be your #1 priority. Partner with Advance Cool Air and keep your family safe; you’ll be glad you did. If you need help remembering the last time your air filters were cleaned, then you need to contact Advance Cool Air and schedule a cleaning so you can start breathing better air in your home.\n",
            "https://www.advancecoolair.com/ (305) 331-7569 If you need help remembering the last time your air filters were cleaned, then you need to contact Advance Cool Air and schedule a cleaning so you can start breathing better air in your house.\n",
            "https://www.advancecoolair.com/ (305) 331-7569 Machines never break down when convenient. If you need repairs done quickly, no matter the reason, our team will not let you down. Once a job is finished, the expression on our clients' faces determines how well our work is performed. At Advance Cool Air, we place a high priority on your happiness.Routine maintenance is the key to keeping your A/C working, but if the inevitable occurs and you need immediate A/C repair, it is for your best benefit to contact Advance Cool Air. It's time for your regular servicing! When was the last time you got your unit serviced? While it is advised twice a year, it is better to be cautious than sorry! Don't wait for a disaster. Call Advance Cool Air now to arrange service!\n",
            "#aca #advancecoolair\n",
            "(305) 331-7569 Top-quality service at affordable rates is what we stand by. Let us assist with your air conditioning needs today.We have the right equipment to complete your system's work fast and safely. Our professional team will be glad to assist you with all your A/C needs. Get a quote today!Happy Thanksgiving from all of us here at Advance Cool Air! We want to take this opportunity to thank you for your continued support and wish you and your loved ones a great day.Nothing’s more miserable than dealing with a broken air conditioner. Whether you’ve already tried to repair your AC or just realized your unit is past its prime, Advance Cool Air can make the repair or replacement process easy.(305) 331-7569 \n",
            "#aca #advancecoolair Nothing’s more miserable than dealing with a broken air conditioner. Whether you’ve already tried to repair your AC or just realized your unit is past its prime, Advance Cool Air can make the repair or replacement process easy.(305) 331-7569 \n",
            "#aca #advancecoolair Your air conditioning system represents a significant investment, and when it isn’t working right, we understand it's important to find a trusted technician to repair it. Rely on Advance Cool Air for long-lasting results and clear communication!We provide professional, quality air conditioning repair services to the Miami area. When you need us, we'll be there. Contact us for amazing service today. (305) 331-7569We’re here for all your home’s AC repair needs. No matter what system you have, have our certified techs take a look and get it working again! ??Customer service means making it easy and fast for your customers to get the help they need- when and how they need it. At Advance Cool Air, we aim to supply your needs in the best way possible.You have a problem. We have a solution. Let the Advance Cool Air team simplify your life with quality work and affordable rates. Contact us for more information on what we can do for you today. (305) 331-7569While it may be tempting, you should never do a repair on your own. You are not experienced, nor do you have the tools available to make the repair. Save your time and money. Call the experts at Advance Cool Air for all of your AC service and repair needs! (305) 331-7569When it's time to replace your air conditioner, Advance Cool Air is here to assist. We'll help you shop around for a new air conditioner that fits your requirements When it's time to replace your air conditioner, Advance Cool Air is here to assist. We'll help you shop around for a\n",
            "\n",
            "[110 | 98.28] loss=0.01 avg=0.05\n",
            "[120 | 101.48] loss=0.01 avg=0.05\n",
            "Saving checkpoint/run1/model-120\n",
            "======== SAMPLE 1 ========\n",
            " you get to the point where you have to replace your unit for at least a decade, there’s always a risk that something could go wrong and cause further damage to the unit. Allow our experts to handle everything for you! Nothing’s more miserable than dealing with a broken air conditioner. Whether you’ve already tried to repair your AC or just realized your unit is past its prime, Advance Cool Air can make the repair or replacement process easy.Hot or cold, our service is gold. For a company that cares, allow Advance Cool Air to supply all your HVAC needs. (305) 331-7569if the worst happens and you need to replace your unit, you’ll have the support of our professional team who can guide you through the process and ensure everything goes smoothly!At Advance Cool Air, you'll find all A/C solutions, from residential to corporate. Give us a call. (305) 331-7569We're here for you! Knowing that someone is available to help if your unit breaks down can be a huge relief. Give us a call today! (305) 331-7569Your air conditioner is an investment meant to last you for over a decade. You wouldn’t ever purposely hire a non-professional to work on an AC, right? Contact Advance Cool Air today!Monitor your indoor temperature when Advance Cool Air installs a new thermostat to give you efficient, real-time readings. Call us today!\n",
            "(305) 331-7569 Monitor your indoor temperature when Advance Cool Air installs a new thermostat to give you efficient, real-time readings. Call us today!\n",
            "(305) 331-7569 Our job is to make you happy. Your satisfaction is our guarantee! Let us make you happy with amazing service today.Saving money is always a tempting prospect for people to attempt DIY repairs, but safety should be your #1 priority. Partner with Advance Cool Air and keep your family safe; you’ll be glad you did. If you need help remembering the last time your air filters were cleaned, then you need to contact Advance Cool Air and schedule a cleaning so you can start breathing better air in your home.\n",
            "https://www.advancecoolair.com/ (305) 331-7569 If you need help remembering the last time your air filters were cleaned, then you need to contact Advance Cool Air and schedule a cleaning so you can start breathing better air in your home.\n",
            "https://www.advancecoolair.com/ (305) 331-7569 Machines never break down when convenient. If you need repairs done quickly, no matter the reason, our team will not let you down. Once a job is finished, the expression on our clients' faces determines how well our work is performed. At Advance Cool Air, we place a high priority on your happiness.Routine maintenance is the key to keeping your A/C working, but if the inevitable occurs and you need immediate A/C repair, it is for your best benefit to contact Advance Cool Air. It's time for your regular servicing! When was the last time you got your unit serviced? While it is advised twice a year, it is better to be cautious than sorry! Don't wait for a disaster. Call Advance Cool Air now to arrange service!\n",
            "#aca #advancecoolair\n",
            "(305) 331-7569 Top-quality service at affordable rates is what we stand by. Let us assist with your air conditioning needs today.We have the right equipment to complete your system's work fast and safely. Our professional team will be glad to assist you with all your A/C needs. Get a quote today!Happy Thanksgiving from all of us here at Advance Cool Air! We want to take this opportunity to thank you for your continued support and wish you and your loved ones a great day.Nothing’s more miserable than dealing with a broken air conditioner. Whether you’ve already tried to repair your AC or just realized your unit is past its prime, Advance Cool Air can make the repair or replacement process easy.(305) 331-7569 \n",
            "#aca #advancecoolair Nothing’s more miserable than dealing with a broken air conditioner. Whether you’ve already tried to repair your AC or just realized your unit is past its prime, Advance Cool Air can make the repair or replacement process easy.(305) 331-7569 \n",
            "#aca #advancecoolair Your air conditioning system represents a significant investment, and when it isn’t working right, we understand it's important to find a trusted technician to repair it. Rely on Advance Cool Air for long-lasting results and clear communication!We provide professional, quality air conditioning repair services to the Miami area. When you need us, we'll be there. Contact us for amazing service today. (305) 331-7569We’re here for all your home’s AC repair needs. No\n",
            "\n",
            "[130 | 114.81] loss=0.01 avg=0.05\n",
            "[140 | 118.01] loss=0.01 avg=0.04\n",
            "Saving checkpoint/run1/model-140\n",
            "======== SAMPLE 1 ========\n",
            " people, we're providing top-notch air conditioning services all year round. Give us a call to repair your HVAC system today.When you try to do the repairs yourself, there’s always a risk that something could go wrong and cause further damage to the unit. Allow our experts to handle everything for you! Nothing’s more miserable than dealing with a broken air conditioner. Whether you’ve already tried to repair your AC or just realized your unit is past its prime, Advance Cool Air can make the repair or replacement process easy.Hot or cold, our service is gold. For a company that cares, allow Advance Cool Air to supply all your HVAC needs. (305) 331-7569if the worst happens and you need to replace your unit, you’ll have the support of our professional team who can guide you through the process and ensure everything goes smoothly!At Advance Cool Air, you'll find all A/C solutions, from residential to corporate. Give us a call. (305) 331-7569We're here for you! Knowing that someone is available to help if your unit breaks down can be a huge relief. Give us a call today! (305) 331-7569Your air conditioner is an investment meant to last you for over a decade. You wouldn’t ever purposely hire a non-professional to work on an AC, right? Contact Advance Cool Air today!Monitor your indoor temperature when Advance Cool Air installs a new thermostat to give you efficient, real-time readings. Call us today!\n",
            "(305) 331-7569 Monitor your indoor temperature when Advance Cool Air installs a new thermostat to give you efficient, real-time readings. Call us today!\n",
            "(305) 331-7569 Our job is to make you happy. Your satisfaction is our guarantee! Let us make you happy with amazing service today.Saving money is always a tempting prospect for people to attempt DIY repairs, but safety should be your #1 priority. Partner with Advance Cool Air and keep your family safe; you’ll be glad you did. If you need help remembering the last time your air filters were cleaned, then you need to contact Advance Cool Air and schedule a cleaning so you can start breathing better air in your home.\n",
            "https://www.advancecoolair.com/ (305) 331-7569 If you need help remembering the last time your air filters were cleaned, then you need to contact Advance Cool Air and schedule a cleaning so you can start breathing better air in your home.\n",
            "https://www.advancecoolair.com/ (305) 331-7569 Machines never break down when convenient. If you need repairs done quickly, no matter the reason, our team will not let you down. Once a job is finished, the expression on our clients' faces determines how well our work is performed. At Advance Cool Air, we place a high priority on your happiness.Routine maintenance is the key to keeping your A/C working, but if the inevitable occurs and you need immediate A/C repair, it is for your best benefit to contact Advance Cool Air. It's time for your regular servicing! When was the last time you got your unit serviced? While it is advised twice a year, it is better to be cautious than sorry! Don't wait for a disaster. Call Advance Cool Air now to arrange service!\n",
            "#aca #advancecoolair\n",
            "(305) 331-7569 Top-quality service at affordable rates is what we stand by. Let us assist with your air conditioning needs today.We have the right equipment to complete your system's work fast and safely. Our professional team will be glad to assist you with all your A/C needs. Get a quote today!Happy Thanksgiving from all of us here at Advance Cool Air! We want to take this opportunity to thank you for your continued support and wish you and your loved ones a great day.Nothing’s more miserable than dealing with a broken air conditioner. Whether you’ve already tried to repair your AC or just realized your unit is past its prime, Advance Cool Air can make the repair or replacement process easy.(305) 331-7569 \n",
            "#aca #advancecoolair Nothing’s more miserable than dealing with a broken air conditioner. Whether you’ve already tried to repair your AC or just realized your unit is past its prime, Advance Cool Air can make the repair or replacement process easy.(305) 331-7569 \n",
            "#aca #advancecoolair Your air conditioning system represents a significant investment, and when it isn’t working right, we understand it's important to find a trusted technician to repair it. Rely on Advance Cool Air for long-lasting results and clear communication!We provide professional, quality air conditioning repair services to the Miami area. When you need us, we'll be there. Contact us for amazing service today. (305) 331\n",
            "\n",
            "[150 | 131.58] loss=0.01 avg=0.04\n",
            "[160 | 134.77] loss=0.01 avg=0.04\n",
            "Saving checkpoint/run1/model-160\n",
            "======== SAMPLE 1 ========\n",
            " Cools℠ is not responsible for any damage done to the computer. Nothing’s more miserable than dealing with a broken air conditioner. Whether you’ve already tried to repair your AC or just realized your unit is past its prime, Advance Cool Air can make the repair or replacement process easy.Hot or cold, our service is gold. For a company that cares, allow Advance Cool Air to supply all your HVAC needs. (305) 331-7569if the worst happens and you need to replace your unit, you’ll have the support of our professional team who can guide you through the process and ensure everything goes smoothly!At Advance Cool Air, you'll find all A/C solutions, from residential to corporate. Give us a call. (305) 331-7569We're here for you! Knowing that someone is available to help if your unit breaks down can be a huge relief. Give us a call today! (305) 331-7569Your air conditioner is an investment meant to last you for over a decade. You wouldn’t ever purposely hire a non-professional to work on an AC, right? Contact Advance Cool Air today!Monitor your indoor temperature when Advance Cool Air installs a new thermostat to give you efficient, real-time readings. Call us today!\n",
            "(305) 331-7569 Monitor your indoor temperature when Advance Cool Air installs a new thermostat to give you efficient, real-time readings. Call us today!\n",
            "(305) 331-7569 Our job is to make you happy. Your satisfaction is our guarantee! Let us make you happy with amazing service today.Saving money is always a tempting prospect for people to attempt DIY repairs, but safety should be your #1 priority. Partner with Advance Cool Air and keep your family safe; you’ll be glad you did. If you need help remembering the last time your air filters were cleaned, then you need to contact Advance Cool Air and schedule a cleaning so you can start breathing better air in your home.\n",
            "https://www.advancecoolair.com/ (305) 331-7569 If you need help remembering the last time your air filters were cleaned, then you need to contact Advance Cool Air and schedule a cleaning so you can start breathing better air in your home.\n",
            "https://www.advancecoolair.com/ (305) 331-7569 Machines never break down when convenient. If you need repairs done quickly, no matter the reason, our team will not let you down. Once a job is finished, the expression on our clients' faces determines how well our work is performed. At Advance Cool Air, we place a high priority on your happiness.Routine maintenance is the key to keeping your A/C working, but if the inevitable occurs and you need immediate A/C repair, it is for your best benefit to contact Advance Cool Air. It's time for your regular servicing! When was the last time you got your unit serviced? While it is advised twice a year, it is better to be cautious than sorry! Don't wait for a disaster. Call Advance Cool Air now to arrange service!\n",
            "#aca #advancecoolair\n",
            "(305) 331-7569 Top-quality service at affordable rates is what we stand by. Let us assist with your air conditioning needs today.We have the right equipment to complete your system's work fast and safely. Our professional team will be glad to assist you with all your A/C needs. Get a quote today!Happy Thanksgiving from all of us here at Advance Cool Air! We want to take this opportunity to thank you for your continued support and wish you and your loved ones a great day.Nothing’s more miserable than dealing with a broken air conditioner. Whether you’ve already tried to repair your AC or just realized your unit is past its prime, Advance Cool Air can make the repair or replacement process easy.(305) 331-7569 \n",
            "#aca #advancecoolair Nothing’s more miserable than dealing with a broken air conditioner. Whether you’ve already tried to repair your AC or just realized your unit is past its prime, Advance Cool Air can make the repair or replacement process easy.(305) 331-7569 \n",
            "#aca #advancecoolair Your air conditioning system represents a significant investment, and when it isn’t working right, we understand it's important to find a trusted technician to repair it. Rely on Advance Cool Air for long-lasting results and clear communication!We provide professional, quality air conditioning repair services to the Miami area. When you need us, we'll be there. Contact us for amazing service today. (305) 331-7569We’re here for all your home’s AC repair needs. No matter what system you have, have our certified techs take a look and get it working again! ??Customer service means making it easy and fast for your\n",
            "\n",
            "[170 | 148.31] loss=0.01 avg=0.04\n",
            "[180 | 151.50] loss=0.01 avg=0.03\n",
            "Saving checkpoint/run1/model-180\n",
            "======== SAMPLE 1 ========\n",
            " is to be replaced entirely. Your thermostat provides accurate information to tell you what your indoor temperature is. Sometimes they go bad and start giving you wrong readings. If something seems off with your thermostat, contact the team at Advance Cool Air to have it repaired or replaced.\n",
            "https://www.advancecoolair.com/ (305) 331-7569 Often, a simple repair job is all that’s needed to get your unit up and running again. Hire Advance Cool Air and avoid expensive replacement costs. Don't sweat it. We're providing top-notch air conditioning services all year round. Give us a call to repair your HVAC system today.When you try to do the repairs yourself, there’s always a risk that something could go wrong and cause further damage to the unit. Allow our experts to handle everything for you! Nothing’s more miserable than dealing with a broken air conditioner. Whether you’ve already tried to repair your AC or just realized your unit is past its prime, Advance Cool Air can make the repair or replacement process easy.Hot or cold, our service is gold. For a company that cares, allow Advance Cool Air to supply all your HVAC needs. (305) 331-7569if the worst happens and you need to replace your unit, you’ll have the support of our professional team who can guide you through the process and ensure everything goes smoothly!At Advance Cool Air, you'll find all A/C solutions, from residential to corporate. Give us a call. (305) 331-7569We're here for you! Knowing that someone is available to help if your unit breaks down can be a huge relief. Give us a call today! (305) 331-7569Your air conditioner is an investment meant to last you for over a decade. You wouldn’t ever purposely hire a non-professional to work on an AC, right? Contact Advance Cool Air today!Monitor your indoor temperature when Advance Cool Air installs a new thermostat to give you efficient, real-time readings. Call us today!\n",
            "(305) 331-7569 Monitor your indoor temperature when Advance Cool Air installs a new thermostat to give you efficient, real-time readings. Call us today!\n",
            "(305) 331-7569 Our job is to make you happy. Your satisfaction is our guarantee! Let us make you happy with amazing service today.Saving money is always a tempting prospect for people to attempt DIY repairs, but safety should be your #1 priority. Partner with Advance Cool Air and keep your family safe; you’ll be glad you did. If you need help remembering the last time your air filters were cleaned, then you need to contact Advance Cool Air and schedule a cleaning so you can start breathing better air in your home.\n",
            "https://www.advancecoolair.com/ (305) 331-7569 If you need help remembering the last time your air filters were cleaned, then you need to contact Advance Cool Air and schedule a cleaning so you can start breathing better air in your home.\n",
            "https://www.advancecoolair.com/ (305) 331-7569 Machines never break down when convenient. If you need repairs done quickly, no matter the reason, our team will not let you down. Once a job is finished, the expression on our clients' faces determines how well our work is performed. At Advance Cool Air, we place a high priority on your happiness.Routine maintenance is the key to keeping your A/C working, but if the inevitable occurs and you need immediate A/C repair, it is for your best benefit to contact Advance Cool Air. It's time for your regular servicing! When was the last time you got your unit serviced? While it is advised twice a year, it is better to be cautious than sorry! Don't wait for a disaster. Call Advance Cool Air now to arrange service!\n",
            "#aca #advancecoolair\n",
            "(305) 331-7569 Top-quality service at affordable rates is what we stand by. Let us assist with your air conditioning needs today.We have the right equipment to complete your system's work fast and safely. Our professional team will be glad to assist you with all your A/C needs. Get a quote today!Happy Thanksgiving from all of us here at Advance Cool Air! We want to take this opportunity to thank you for your continued support and wish you and your loved ones a great day.Nothing’s more miserable than dealing with a broken air conditioner. Whether you’ve already tried to repair your AC or just realized your unit is past its prime, Advance Cool Air can make the repair or replacement process easy.(305) 331-7569 \n",
            "#aca #advancecoolair Nothing’s more miserable than dealing with a broken air conditioner. Whether you’ve already tried to repair your AC or just realized your unit is past its\n",
            "\n",
            "[190 | 164.76] loss=0.01 avg=0.03\n",
            "[200 | 167.95] loss=0.01 avg=0.03\n",
            "Saving checkpoint/run1/model-200\n"
          ]
        }
      ]
    },
    {
      "cell_type": "code",
      "source": [
        "gpt2.generate(sess,\n",
        "              length=250,\n",
        "              temperature=0.99,\n",
        "              prefix=\"Hi\",\n",
        "              nsamples=5,\n",
        "              batch_size=5,\n",
        "              top_k=40)"
      ],
      "metadata": {
        "colab": {
          "base_uri": "https://localhost:8080/"
        },
        "id": "N7FU9ln6wbgP",
        "outputId": "3b3bb8de-fa8a-48e6-eb0f-85ef8d72c2ed"
      },
      "execution_count": null,
      "outputs": [
        {
          "output_type": "stream",
          "name": "stdout",
          "text": [
            "Hi. Sometimes a simple repair job is all that’s needed to get your unit up and running again. Hire Advance Cool Air and avoid expensive replacement costs. Don't sweat it. We're providing top-notch air conditioning services all year round. Give us a call to repair your HVAC system today.When you try to do the repairs yourself, there’s always a risk that something could go wrong and cause further damage to the unit. Allow our experts to handle everything for you! Nothing’s more miserable than dealing with a broken air conditioner. Whether you’ve already tried to repair your AC or just realized your unit is past its prime, Advance Cool Air can make the repair or replacement process easy.Hot or cold, our service is gold. For a company that cares, allow Advance Cool Air to supply all your HVAC needs. (305) 331-7569if the worst happens and you need to replace your unit, you’ll have the support of our professional team who can guide you through the process and ensure everything goes smoothly!At Advance Cool Air, you'll find all A/C solutions, from residential to corporate. Give us a call. (305) 331\n",
            "====================\n",
            "Hi and thank you for your continued support! We want to take this opportunity to thank you for your continued support and wish you and your loved ones a great day.Nothing’s more miserable than dealing with a broken air conditioner. Whether you’ve already tried to repair your AC or just realized your unit is past its prime, Advance Cool Air can make the repair or replacement process easy.Hot or cold, our service is gold. For a company that cares, allow Advance Cool Air to supply all your HVAC needs. (305) 331-7569if the worst happens and you need to replace your unit, you’ll have the support of our professional team who can guide you through the process and ensure everything goes smoothly!At Advance Cool Air, you'll find all A/C solutions, from residential to corporate. Give us a call. (305) 331-7569We're here for you! Knowing that someone is available to help if your unit breaks down can be a huge relief. Give us a call today! (305) 331-7569Your air conditioner is an investment meant to last you for over a decade. You wouldn’t ever purposely hire a non-professional to work on\n",
            "====================\n",
            "HiVee's professional team will be glad to assist you with your thermostat needs. (305) 331-7569if the worst happens and you need to replace your unit, you’ll have the support of our professional team who can guide you through the process and ensure everything goes smoothly!At Advance Cool Air, you'll find all A/C solutions, from residential to corporate. Give us a call. (305) 331-7569We're here for you! Knowing that someone is available to help if your unit breaks down can be a huge relief. Give us a call today! (305) 331-7569Your air conditioner is an investment meant to last you for over a decade. You wouldn’t ever purposely hire a non-professional to work on an AC, right? Contact Advance Cool Air today!Monitor your indoor temperature when Advance Cool Air installs a new thermostat to give you efficient, real-time readings. Call us today!\n",
            "(305) 331-7569 Monitor your indoor temperature when Advance Cool Air installs a new thermostat to give you efficient, real-time readings. Call us today!\n",
            "(305) 331-7569 Our job is to make you happy\n",
            "====================\n",
            "Hi. Sometimes they go bad and start giving you wrong readings. If something seems off with your thermostat, contact the team at Advance Cool Air to have it repaired or replaced.\n",
            "https://www.advancecoolair.com/ (305) 331-7569 Often, a simple repair job is all that’s needed to get your unit up and running again. Hire Advance Cool Air and avoid expensive replacement costs. Don't sweat it. We're providing top-notch air conditioning services all year round. Give us a call to repair your HVAC system today.When you try to do the repairs yourself, there’s always a risk that something could go wrong and cause further damage to the unit. Allow our experts to handle everything for you! Nothing’s more miserable than dealing with a broken air conditioner. Whether you’ve already tried to repair your AC or just realized your unit is past its prime, Advance Cool Air can make the repair or replacement process easy.Hot or cold, our service is gold. For a company that cares, allow Advance Cool Air to supply all your HVAC needs. (305) 331-7569if the worst happens and you need to replace\n",
            "====================\n",
            "Hi a lot! We're providing top-notch air conditioning services all year round. Give us a call to repair your HVAC system today.When you try to do the repairs yourself, there’s always a risk that something could go wrong and cause further damage to the unit. Allow our experts to handle everything for you! Nothing’s more miserable than dealing with a broken air conditioner. Whether you’ve already tried to repair your AC or just realized your unit is past its prime, Advance Cool Air can make the repair or replacement process easy.Hot or cold, our service is gold. For a company that cares, allow Advance Cool Air to supply all your HVAC needs. (305) 331-7569if the worst happens and you need to replace your unit, you’ll have the support of our professional team who can guide you through the process and ensure everything goes smoothly!At Advance Cool Air, you'll find all A/C solutions, from residential to corporate. Give us a call. (305) 331-7569We're here for you! Knowing that someone is available to help if your unit breaks down can be a huge relief. Give us a call today! (305\n",
            "====================\n"
          ]
        }
      ]
    },
    {
      "cell_type": "code",
      "source": [
        "gpt2.generate(sess,run_name=\"run1\")"
      ],
      "metadata": {
        "colab": {
          "base_uri": "https://localhost:8080/"
        },
        "id": "yW5VDlkjw-xP",
        "outputId": "fc2090b9-6cbd-4bda-846f-00e7c07344d7"
      },
      "execution_count": null,
      "outputs": [
        {
          "output_type": "stream",
          "name": "stdout",
          "text": [
            "At Advance Cool Air, you'll find all A/C solutions, from residential to corporate. Give us a call. (305) 331-7569We're here for you! Knowing that someone is available to help if your unit breaks down can be a huge relief. Give us a call today! (305) 331-7569Your air conditioner is an investment meant to last you for over a decade. You wouldn’t ever purposely hire a non-professional to work on an AC, right? Contact Advance Cool Air today!Monitor your indoor temperature when Advance Cool Air installs a new thermostat to give you efficient, real-time readings. Call us today!\n",
            "(305) 331-7569 Monitor your indoor temperature when Advance Cool Air installs a new thermostat to give you efficient, real-time readings. Call us today!\n",
            "(305) 331-7569 Our job is to make you happy. Your satisfaction is our guarantee! Let us make you happy with amazing service today.Saving money is always a tempting prospect for people to attempt DIY repairs, but safety should be your #1 priority. Partner with Advance Cool Air and keep your family safe; you’ll be glad you did. If you need help remembering the last time your air filters were cleaned, then you need to contact Advance Cool Air and schedule a cleaning so you can start breathing better air in your home.\n",
            "https://www.advancecoolair.com/ (305) 331-7569 If you need help remembering the last time your air filters were cleaned, then you need to contact Advance Cool Air and schedule a cleaning so you can start breathing better air in your home.\n",
            "https://www.advancecoolair.com/ (305) 331-7569 Machines never break down when convenient. If you need repairs done quickly, no matter the reason, our team will not let you down. Once a job is finished, the expression on our clients' faces determines how well our work is performed. At Advance Cool Air, we place a high priority on your happiness.Routine maintenance is the key to keeping your A/C working, but if the inevitable occurs and you need immediate A/C repair, it is for your best benefit to contact Advance Cool Air. It's time for your regular servicing! When was the last time you got your unit serviced? While it is advised twice a year, it is better to be cautious than sorry! Don't wait for a disaster. Call Advance Cool Air now to arrange service!\n",
            "#aca #advancecoolair\n",
            "(305) 331-7569 Top-quality service at affordable rates is what we stand by. Let us assist with your air conditioning needs today.We have the right equipment to complete your system's work fast and safely. Our professional team will be glad to assist you with all your A/C needs. Get a quote today!Happy Thanksgiving from all of us here at Advance Cool Air! We want to take this opportunity to thank you for your continued support and wish you and your loved ones a great day.Nothing’s more miserable than dealing with a broken air conditioner. Whether you’ve already tried to repair your AC or just realized your unit is past its prime, Advance Cool Air can make the repair or replacement process easy.(305) 331-7569 \n",
            "#aca #advancecoolair Nothing’s more miserable than dealing with a broken air conditioner. Whether you’ve already tried to repair your AC or just realized your unit is past its prime, Advance Cool Air can make the repair or replacement process easy.(305) 331-7569 \n",
            "#aca #advancecoolair Your air conditioning system represents a significant investment, and when it isn’t working right, we understand it's important to find a trusted technician to repair it. Rely on Advance Cool Air for long-lasting results and clear communication!We provide professional, quality air conditioning repair services to the Miami area. When you need us, we'll be there. Contact us for amazing service today. (305) 331-7569We’re here for all your home’s AC repair needs. No matter what system you have, have our certified techs take a look and get it working again! ??Customer service means making it easy and fast for your customers to get the help they need- when and how they need it. At Advance Cool Air, we aim to supply your needs in the best way possible.You have a problem. We have a solution. Let the Advance Cool Air team simplify your life with quality work and affordable rates. Contact us for more information on what we can do for you today. (305) 331-7569While it may be tempting, you should never do a repair on your own. You are not experienced, nor do you have the tools available to make the repair. Save your time and money. Call the experts at Advance Cool Air for all of your AC service and repair needs\n"
          ]
        }
      ]
    },
    {
      "cell_type": "code",
      "source": [],
      "metadata": {
        "id": "FoA_xsQ8xig0"
      },
      "execution_count": null,
      "outputs": []
    }
  ]
}